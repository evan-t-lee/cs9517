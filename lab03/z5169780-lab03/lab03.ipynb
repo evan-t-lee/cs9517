{
 "cells": [
  {
   "cell_type": "code",
   "execution_count": 1,
   "id": "considerable-affair",
   "metadata": {},
   "outputs": [],
   "source": [
    "# Import all necessary libs and initial setup\n",
    "import tensorflow as tf\n",
    "import numpy as np\n",
    "\n",
    "from sklearn import neighbors, linear_model, tree\n",
    "from sklearn.model_selection import train_test_split\n",
    "from sklearn.metrics import accuracy_score, recall_score, confusion_matrix\n",
    "\n",
    "# Dataset size constants\n",
    "train_size = 2000\n",
    "test_size = 500"
   ]
  },
  {
   "cell_type": "code",
   "execution_count": 2,
   "id": "applied-apache",
   "metadata": {},
   "outputs": [
    {
     "name": "stdout",
     "output_type": "stream",
     "text": [
      "(2000, 28, 28) (500, 28, 28)\n",
      "(2000, 784) (500, 784)\n"
     ]
    }
   ],
   "source": [
    "models = {\n",
    "    'KNN': neighbors.KNeighborsClassifier(n_neighbors=3),\n",
    "    'SGD': linear_model.SGDClassifier(max_iter=250),\n",
    "    'DT': tree.DecisionTreeClassifier()\n",
    "}\n",
    "\n",
    "def train_and_test(classifier):\n",
    "    # get corresponding model and test\n",
    "    model = models[classifier].fit(train_data, train_labels)\n",
    "    results = model.predict(test_data)\n",
    "\n",
    "    # show results\n",
    "    accuracy = accuracy_score(test_labels, results)\n",
    "    print(f'Accuracy score: {accuracy}')\n",
    "\n",
    "    recall = recall_score(test_labels, results, average='macro')\n",
    "    print(f'Recall score: {recall}')\n",
    "\n",
    "    confusion = confusion_matrix(test_labels, results)\n",
    "    print(f'Confusion Matrix:\\n{confusion}')\n",
    "\n",
    "# fetch train/test data\n",
    "(train_data, train_labels), (test_data, test_labels) = tf.keras.datasets.fashion_mnist.load_data()\n",
    "data = np.concatenate((train_data, test_data), axis=0)\n",
    "labels = np.concatenate((train_labels, test_labels), axis=0)\n",
    "\n",
    "# split data as specified, format appropriately\n",
    "train_data, test_data, train_labels, test_labels = train_test_split(data, labels, train_size=train_size, test_size=test_size)\n",
    "print(train_data.shape, test_data.shape)\n",
    "\n",
    "train_data = np.reshape(train_data, (train_size, -1))\n",
    "test_data = np.reshape(test_data, (test_size, -1))\n",
    "print(train_data.shape, test_data.shape)"
   ]
  },
  {
   "cell_type": "code",
   "execution_count": 3,
   "id": "determined-ghana",
   "metadata": {},
   "outputs": [
    {
     "name": "stdout",
     "output_type": "stream",
     "text": [
      "K - Nearest Neighbours Classifier\n",
      "\n",
      "Accuracy score: 0.782\n",
      "Recall score: 0.7789774433545245\n",
      "Confusion Matrix:\n",
      "[[43  0  2  1  0  0  6  0  0  0]\n",
      " [ 1 52  0  2  0  0  0  0  0  0]\n",
      " [ 2  0 39  0  6  0  9  0  0  0]\n",
      " [ 5  0  1 42  3  0  2  0  0  0]\n",
      " [ 1  0  7  1 29  0 10  0  0  0]\n",
      " [ 0  0  0  0  0 26  1  2  0  6]\n",
      " [16  0  7  1  4  0 23  0  0  0]\n",
      " [ 0  0  0  0  0  1  0 38  0  6]\n",
      " [ 1  0  1  0  0  0  0  0 50  0]\n",
      " [ 1  0  0  0  0  0  0  3  0 49]]\n"
     ]
    }
   ],
   "source": [
    "print('K - Nearest Neighbours Classifier\\n')\n",
    "train_and_test('KNN')"
   ]
  },
  {
   "cell_type": "code",
   "execution_count": 4,
   "id": "ambient-ecology",
   "metadata": {},
   "outputs": [
    {
     "name": "stdout",
     "output_type": "stream",
     "text": [
      "Stochastic Gradient Descent Classifier\n",
      "\n",
      "Accuracy score: 0.796\n",
      "Recall score: 0.7947246374910082\n",
      "Confusion Matrix:\n",
      "[[45  0  3  2  0  0  2  0  0  0]\n",
      " [ 0 52  0  2  0  0  0  0  0  1]\n",
      " [ 9  0 38  2  4  0  3  0  0  0]\n",
      " [ 4  0  1 45  2  0  1  0  0  0]\n",
      " [ 2  0  5  2 34  0  5  0  0  0]\n",
      " [ 0  0  0  0  0 28  1  1  0  5]\n",
      " [18  0  5  2  5  0 20  0  1  0]\n",
      " [ 0  0  0  0  0  3  0 37  0  5]\n",
      " [ 0  0  0  1  1  0  0  0 50  0]\n",
      " [ 0  0  0  0  0  1  0  3  0 49]]\n"
     ]
    }
   ],
   "source": [
    "print('Stochastic Gradient Descent Classifier\\n')\n",
    "train_and_test('SGD')"
   ]
  },
  {
   "cell_type": "code",
   "execution_count": 5,
   "id": "exciting-photography",
   "metadata": {},
   "outputs": [
    {
     "name": "stdout",
     "output_type": "stream",
     "text": [
      "Decision Tree Classifier\n",
      "\n",
      "Accuracy score: 0.754\n",
      "Recall score: 0.757552343297349\n",
      "Confusion Matrix:\n",
      "[[32  1  3  2  2  0 11  1  0  0]\n",
      " [ 0 51  0  3  0  0  1  0  0  0]\n",
      " [ 0  0 39  2 10  0  4  0  1  0]\n",
      " [ 1  1  1 40  4  0  5  0  1  0]\n",
      " [ 1  2 10  1 27  1  6  0  0  0]\n",
      " [ 0  0  0  0  0 33  0  1  0  1]\n",
      " [ 9  0  4  4  7  0 23  0  4  0]\n",
      " [ 0  0  0  0  0  4  0 35  0  6]\n",
      " [ 0  0  1  1  1  0  1  0 48  0]\n",
      " [ 0  0  0  0  0  2  0  2  0 49]]\n"
     ]
    }
   ],
   "source": [
    "print('Decision Tree Classifier\\n')\n",
    "train_and_test('DT')"
   ]
  }
 ],
 "metadata": {
  "kernelspec": {
   "display_name": "Python 3",
   "language": "python",
   "name": "python3"
  },
  "language_info": {
   "codemirror_mode": {
    "name": "ipython",
    "version": 3
   },
   "file_extension": ".py",
   "mimetype": "text/x-python",
   "name": "python",
   "nbconvert_exporter": "python",
   "pygments_lexer": "ipython3",
   "version": "3.6.9"
  }
 },
 "nbformat": 4,
 "nbformat_minor": 5
}
