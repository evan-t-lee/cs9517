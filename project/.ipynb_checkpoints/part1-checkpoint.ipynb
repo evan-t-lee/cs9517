{
 "cells": [
  {
   "cell_type": "code",
   "execution_count": 2,
   "id": "needed-destination",
   "metadata": {},
   "outputs": [],
   "source": [
    "import os\n",
    "from velocity import VeloEval\n",
    "import copy\n",
    "import numpy as np"
   ]
  },
  {
   "cell_type": "code",
   "execution_count": 3,
   "id": "baking-entrepreneur",
   "metadata": {},
   "outputs": [],
   "source": [
    "dataset_path = 'benchmark_velocity_train/clips/'\n",
    "folder_path = os.listdir(dataset_path)\n",
    "annotations = [os.path.join(dataset_path, x, 'annotation.json') for x in folder_path]"
   ]
  },
  {
   "cell_type": "code",
   "execution_count": 4,
   "id": "bearing-manual",
   "metadata": {},
   "outputs": [
    {
     "name": "stdout",
     "output_type": "stream",
     "text": [
      "Finished loading 1074 annotations.\n"
     ]
    }
   ],
   "source": [
    "gt = VeloEval.load_annotation(annotations)"
   ]
  },
  {
   "cell_type": "code",
   "execution_count": 5,
   "id": "frequent-frontier",
   "metadata": {},
   "outputs": [],
   "source": [
    "pred = copy.deepcopy(gt)\n",
    "for idx in range(len(pred)):\n",
    "    for j in range(len(pred[idx])):\n",
    "        pred[idx][j][\"velocity\"][0] += np.random.normal(0, 0.5)\n",
    "        pred[idx][j][\"velocity\"][1] += np.random.normal(0, 0.5)\n",
    "        pred[idx][j][\"position\"][0] += np.random.normal(0, 0.5)\n",
    "        pred[idx][j][\"position\"][1] += np.random.normal(0, 0.5)"
   ]
  },
  {
   "cell_type": "code",
   "execution_count": 6,
   "id": "outside-tobago",
   "metadata": {},
   "outputs": [
    {
     "name": "stdout",
     "output_type": "stream",
     "text": [
      "Velocity Estimation error (Near): 0.53969\n",
      "Velocity Estimation error (Medium): 0.48834\n",
      "Velocity Estimation error (Far): 0.47437\n",
      "Velocity Estimation error total:  0.500800\n",
      "Position Estimation error (Near): 0.49299\n",
      "Position Estimation error (Medium): 0.48730\n",
      "Position Estimation error (Far): 0.46487\n",
      "Position Estimation error total: 0.48172\n"
     ]
    },
    {
     "data": {
      "text/plain": [
       "(0.5008004777564028, 0.4817172653216098)"
      ]
     },
     "execution_count": 6,
     "metadata": {},
     "output_type": "execute_result"
    }
   ],
   "source": [
    "VeloEval.accuracy(pred, gt)"
   ]
  },
  {
   "cell_type": "code",
   "execution_count": null,
   "id": "loaded-asbestos",
   "metadata": {},
   "outputs": [],
   "source": []
  }
 ],
 "metadata": {
  "kernelspec": {
   "display_name": "Python 3",
   "language": "python",
   "name": "python3"
  },
  "language_info": {
   "codemirror_mode": {
    "name": "ipython",
    "version": 3
   },
   "file_extension": ".py",
   "mimetype": "text/x-python",
   "name": "python",
   "nbconvert_exporter": "python",
   "pygments_lexer": "ipython3",
   "version": "3.6.9"
  }
 },
 "nbformat": 4,
 "nbformat_minor": 5
}
